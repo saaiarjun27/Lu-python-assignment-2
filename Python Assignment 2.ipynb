{
 "cells": [
  {
   "cell_type": "code",
   "execution_count": 1,
   "id": "6df44500",
   "metadata": {},
   "outputs": [
    {
     "name": "stdout",
     "output_type": "stream",
     "text": [
      "args:  ('Chelsea', 'Ajax', 'Barcelona')\n",
      "kwargs:  {'first': 'Chelsea', 'mid': 'Ajax', 'last': 'Barcelona'}\n"
     ]
    }
   ],
   "source": [
    "def argkwarg(*args, **kwargs):\n",
    "    print(\"args: \", args)\n",
    "    print(\"kwargs: \", kwargs)\n",
    "argkwarg('Chelsea', 'Ajax', 'Barcelona', first=\"Chelsea\", mid=\"Ajax\", last=\"Barcelona\")\n"
   ]
  },
  {
   "cell_type": "code",
   "execution_count": null,
   "id": "e00d8cdd",
   "metadata": {},
   "outputs": [],
   "source": []
  }
 ],
 "metadata": {
  "kernelspec": {
   "display_name": "Python 3 (ipykernel)",
   "language": "python",
   "name": "python3"
  },
  "language_info": {
   "codemirror_mode": {
    "name": "ipython",
    "version": 3
   },
   "file_extension": ".py",
   "mimetype": "text/x-python",
   "name": "python",
   "nbconvert_exporter": "python",
   "pygments_lexer": "ipython3",
   "version": "3.9.12"
  }
 },
 "nbformat": 4,
 "nbformat_minor": 5
}
